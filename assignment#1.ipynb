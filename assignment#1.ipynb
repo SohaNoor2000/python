{
 "cells": [
  {
   "cell_type": "code",
   "execution_count": 1,
   "metadata": {},
   "outputs": [
    {
     "name": "stdout",
     "output_type": "stream",
     "text": [
      "enter 1st number :2\n",
      "enter 2nd number :3\n",
      "enter the operation you want to perform(+,/,-,*,%) :+\n",
      "5.0\n"
     ]
    }
   ],
   "source": [
    "num1 = float(input(\"enter 1st number :\"))\n",
    "num2 = float(input(\"enter 2nd number :\"))\n",
    "choice = input(\"enter the operation you want to perform(+,/,-,*,%) :\")\n",
    "if choice == '+':\n",
    "  print(num1 + num2) \n",
    "elif choice == '-':\n",
    " print(num1-num2)\n",
    "elif choice == '/':\n",
    " print(num1/num2)\n",
    "elif choice == '*':\n",
    " print(num1*num2)  \n",
    "elif choice == '%':\n",
    "  print(num1%num2)\n",
    "else:\n",
    "  print(\"invalid input\")\n"
   ]
  },
  {
   "cell_type": "code",
   "execution_count": null,
   "metadata": {},
   "outputs": [],
   "source": []
  }
 ],
 "metadata": {
  "kernelspec": {
   "display_name": "Python 3",
   "language": "python",
   "name": "python3"
  },
  "language_info": {
   "codemirror_mode": {
    "name": "ipython",
    "version": 3
   },
   "file_extension": ".py",
   "mimetype": "text/x-python",
   "name": "python",
   "nbconvert_exporter": "python",
   "pygments_lexer": "ipython3",
   "version": "3.7.6"
  }
 },
 "nbformat": 4,
 "nbformat_minor": 4
}
